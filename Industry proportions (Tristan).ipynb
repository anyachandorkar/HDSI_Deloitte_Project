version https://git-lfs.github.com/spec/v1
oid sha256:4992c897ac451cd5b7ddfb054583eae654314c8f523c627fa411a4e8eeff839e
size 524161
