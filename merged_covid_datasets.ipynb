{
 "cells": [
  {
   "cell_type": "code",
   "execution_count": 14,
   "id": "786e7493",
   "metadata": {},
   "outputs": [],
   "source": [
    "import pandas as pd"
   ]
  },
  {
   "cell_type": "code",
   "execution_count": 15,
   "id": "dd7ab559",
   "metadata": {},
   "outputs": [
    {
     "data": {
      "text/html": [
       "<div>\n",
       "<style scoped>\n",
       "    .dataframe tbody tr th:only-of-type {\n",
       "        vertical-align: middle;\n",
       "    }\n",
       "\n",
       "    .dataframe tbody tr th {\n",
       "        vertical-align: top;\n",
       "    }\n",
       "\n",
       "    .dataframe thead th {\n",
       "        text-align: right;\n",
       "    }\n",
       "</style>\n",
       "<table border=\"1\" class=\"dataframe\">\n",
       "  <thead>\n",
       "    <tr style=\"text-align: right;\">\n",
       "      <th></th>\n",
       "      <th>post_date</th>\n",
       "      <th>industry</th>\n",
       "      <th>job_family</th>\n",
       "      <th>ind_family_count</th>\n",
       "    </tr>\n",
       "  </thead>\n",
       "  <tbody>\n",
       "    <tr>\n",
       "      <th>0</th>\n",
       "      <td>2020-03-01</td>\n",
       "      <td>Services</td>\n",
       "      <td>Unassigned</td>\n",
       "      <td>1.0000</td>\n",
       "    </tr>\n",
       "    <tr>\n",
       "      <th>1</th>\n",
       "      <td>2020-03-01</td>\n",
       "      <td>Services</td>\n",
       "      <td>Customer Service</td>\n",
       "      <td>1.0000</td>\n",
       "    </tr>\n",
       "    <tr>\n",
       "      <th>2</th>\n",
       "      <td>2020-03-01</td>\n",
       "      <td>Services</td>\n",
       "      <td>Entertainment and Recreation</td>\n",
       "      <td>1.0000</td>\n",
       "    </tr>\n",
       "    <tr>\n",
       "      <th>3</th>\n",
       "      <td>2020-03-01</td>\n",
       "      <td>Services</td>\n",
       "      <td>Facilities/Constr</td>\n",
       "      <td>1.0000</td>\n",
       "    </tr>\n",
       "    <tr>\n",
       "      <th>4</th>\n",
       "      <td>2020-03-01</td>\n",
       "      <td>Services</td>\n",
       "      <td>Finance/Insurance</td>\n",
       "      <td>1.0000</td>\n",
       "    </tr>\n",
       "    <tr>\n",
       "      <th>...</th>\n",
       "      <td>...</td>\n",
       "      <td>...</td>\n",
       "      <td>...</td>\n",
       "      <td>...</td>\n",
       "    </tr>\n",
       "    <tr>\n",
       "      <th>162774</th>\n",
       "      <td>2021-09-20</td>\n",
       "      <td>Wholesale</td>\n",
       "      <td>Sales</td>\n",
       "      <td>1.9490</td>\n",
       "    </tr>\n",
       "    <tr>\n",
       "      <th>162775</th>\n",
       "      <td>2021-09-20</td>\n",
       "      <td>Wholesale</td>\n",
       "      <td>Security</td>\n",
       "      <td>7.7942</td>\n",
       "    </tr>\n",
       "    <tr>\n",
       "      <th>162776</th>\n",
       "      <td>2021-09-20</td>\n",
       "      <td>Wholesale</td>\n",
       "      <td>Skilled Trades</td>\n",
       "      <td>2.5048</td>\n",
       "    </tr>\n",
       "    <tr>\n",
       "      <th>162777</th>\n",
       "      <td>2021-09-20</td>\n",
       "      <td>Wholesale</td>\n",
       "      <td>Supply Chain Staff</td>\n",
       "      <td>2.4621</td>\n",
       "    </tr>\n",
       "    <tr>\n",
       "      <th>162778</th>\n",
       "      <td>2021-09-20</td>\n",
       "      <td>Wholesale</td>\n",
       "      <td>Unassigned</td>\n",
       "      <td>0.4777</td>\n",
       "    </tr>\n",
       "  </tbody>\n",
       "</table>\n",
       "<p>162779 rows × 4 columns</p>\n",
       "</div>"
      ],
      "text/plain": [
       "         post_date   industry                    job_family  ind_family_count\n",
       "0       2020-03-01   Services                    Unassigned            1.0000\n",
       "1       2020-03-01   Services              Customer Service            1.0000\n",
       "2       2020-03-01   Services  Entertainment and Recreation            1.0000\n",
       "3       2020-03-01   Services             Facilities/Constr            1.0000\n",
       "4       2020-03-01   Services             Finance/Insurance            1.0000\n",
       "...            ...        ...                           ...               ...\n",
       "162774  2021-09-20  Wholesale                         Sales            1.9490\n",
       "162775  2021-09-20  Wholesale                      Security            7.7942\n",
       "162776  2021-09-20  Wholesale                Skilled Trades            2.5048\n",
       "162777  2021-09-20  Wholesale            Supply Chain Staff            2.4621\n",
       "162778  2021-09-20  Wholesale                    Unassigned            0.4777\n",
       "\n",
       "[162779 rows x 4 columns]"
      ]
     },
     "execution_count": 15,
     "metadata": {},
     "output_type": "execute_result"
    }
   ],
   "source": [
    "ind_fam = pd.read_csv('cleaned_ind_fam.csv').drop(columns = 'Unnamed: 0')\n",
    "ind_fam"
   ]
  },
  {
   "cell_type": "code",
   "execution_count": 16,
   "id": "72e0d455",
   "metadata": {},
   "outputs": [
    {
     "data": {
      "text/plain": [
       "array(['Services', 'Communication', 'Construction', 'Energy',\n",
       "       'Entertainment', 'Financial Services', 'Healthcare', 'Hospitality',\n",
       "       'Insurance', 'Manufacturing', 'Mining', 'Real Estate', 'Retail',\n",
       "       'Transportation', 'Wholesale'], dtype=object)"
      ]
     },
     "execution_count": 16,
     "metadata": {},
     "output_type": "execute_result"
    }
   ],
   "source": [
    "ind_fam['industry'].unique()"
   ]
  },
  {
   "cell_type": "code",
   "execution_count": 4,
   "id": "193311ae",
   "metadata": {},
   "outputs": [
    {
     "data": {
      "text/html": [
       "<div>\n",
       "<style scoped>\n",
       "    .dataframe tbody tr th:only-of-type {\n",
       "        vertical-align: middle;\n",
       "    }\n",
       "\n",
       "    .dataframe tbody tr th {\n",
       "        vertical-align: top;\n",
       "    }\n",
       "\n",
       "    .dataframe thead th {\n",
       "        text-align: right;\n",
       "    }\n",
       "</style>\n",
       "<table border=\"1\" class=\"dataframe\">\n",
       "  <thead>\n",
       "    <tr style=\"text-align: right;\">\n",
       "      <th></th>\n",
       "      <th>post_date</th>\n",
       "      <th>job_family</th>\n",
       "      <th>role</th>\n",
       "      <th>family_role_count</th>\n",
       "    </tr>\n",
       "  </thead>\n",
       "  <tbody>\n",
       "    <tr>\n",
       "      <th>0</th>\n",
       "      <td>2020-03-01</td>\n",
       "      <td>Healthcare</td>\n",
       "      <td>EXCUDE</td>\n",
       "      <td>1.0000</td>\n",
       "    </tr>\n",
       "    <tr>\n",
       "      <th>1</th>\n",
       "      <td>2020-03-01</td>\n",
       "      <td>Customer Service</td>\n",
       "      <td>Call Center Manager</td>\n",
       "      <td>1.0000</td>\n",
       "    </tr>\n",
       "    <tr>\n",
       "      <th>2</th>\n",
       "      <td>2020-03-01</td>\n",
       "      <td>Customer Service</td>\n",
       "      <td>Customer Service Manager</td>\n",
       "      <td>1.0000</td>\n",
       "    </tr>\n",
       "    <tr>\n",
       "      <th>3</th>\n",
       "      <td>2020-03-01</td>\n",
       "      <td>Customer Service</td>\n",
       "      <td>Customer Service Representative</td>\n",
       "      <td>1.0000</td>\n",
       "    </tr>\n",
       "    <tr>\n",
       "      <th>4</th>\n",
       "      <td>2020-03-01</td>\n",
       "      <td>Customer Service</td>\n",
       "      <td>Customer Support Representative</td>\n",
       "      <td>1.0000</td>\n",
       "    </tr>\n",
       "    <tr>\n",
       "      <th>...</th>\n",
       "      <td>...</td>\n",
       "      <td>...</td>\n",
       "      <td>...</td>\n",
       "      <td>...</td>\n",
       "    </tr>\n",
       "    <tr>\n",
       "      <th>619914</th>\n",
       "      <td>2021-09-20</td>\n",
       "      <td>Unassigned</td>\n",
       "      <td>Project Coordinator</td>\n",
       "      <td>0.8639</td>\n",
       "    </tr>\n",
       "    <tr>\n",
       "      <th>619915</th>\n",
       "      <td>2021-09-20</td>\n",
       "      <td>Unassigned</td>\n",
       "      <td>Project Manager</td>\n",
       "      <td>0.5298</td>\n",
       "    </tr>\n",
       "    <tr>\n",
       "      <th>619916</th>\n",
       "      <td>2021-09-20</td>\n",
       "      <td>Unassigned</td>\n",
       "      <td>Shift Manager</td>\n",
       "      <td>2.5717</td>\n",
       "    </tr>\n",
       "    <tr>\n",
       "      <th>619917</th>\n",
       "      <td>2021-09-20</td>\n",
       "      <td>Unassigned</td>\n",
       "      <td>Team Member</td>\n",
       "      <td>0.1535</td>\n",
       "    </tr>\n",
       "    <tr>\n",
       "      <th>619918</th>\n",
       "      <td>2021-09-20</td>\n",
       "      <td>Unassigned</td>\n",
       "      <td>Vice president</td>\n",
       "      <td>0.4040</td>\n",
       "    </tr>\n",
       "  </tbody>\n",
       "</table>\n",
       "<p>619919 rows × 4 columns</p>\n",
       "</div>"
      ],
      "text/plain": [
       "         post_date        job_family                             role  \\\n",
       "0       2020-03-01        Healthcare                           EXCUDE   \n",
       "1       2020-03-01  Customer Service              Call Center Manager   \n",
       "2       2020-03-01  Customer Service         Customer Service Manager   \n",
       "3       2020-03-01  Customer Service  Customer Service Representative   \n",
       "4       2020-03-01  Customer Service  Customer Support Representative   \n",
       "...            ...               ...                              ...   \n",
       "619914  2021-09-20        Unassigned              Project Coordinator   \n",
       "619915  2021-09-20        Unassigned                  Project Manager   \n",
       "619916  2021-09-20        Unassigned                    Shift Manager   \n",
       "619917  2021-09-20        Unassigned                      Team Member   \n",
       "619918  2021-09-20        Unassigned                   Vice president   \n",
       "\n",
       "       family_role_count  \n",
       "0                 1.0000  \n",
       "1                 1.0000  \n",
       "2                 1.0000  \n",
       "3                 1.0000  \n",
       "4                 1.0000  \n",
       "...                  ...  \n",
       "619914            0.8639  \n",
       "619915            0.5298  \n",
       "619916            2.5717  \n",
       "619917            0.1535  \n",
       "619918            0.4040  \n",
       "\n",
       "[619919 rows x 4 columns]"
      ]
     },
     "execution_count": 4,
     "metadata": {},
     "output_type": "execute_result"
    }
   ],
   "source": [
    "fam_role = pd.read_csv('cleaned_fam_role.csv').drop(columns = 'Unnamed: 0').rename(columns={'count_id_indexed':'family_role_count'})\n",
    "fam_role"
   ]
  },
  {
   "cell_type": "code",
   "execution_count": 5,
   "id": "ad6ba0dc",
   "metadata": {},
   "outputs": [],
   "source": [
    "fam_role_ind = fam_role.merge(ind_fam, how='left', on = ['post_date', 'job_family'])"
   ]
  },
  {
   "cell_type": "code",
   "execution_count": 13,
   "id": "14306923",
   "metadata": {},
   "outputs": [
    {
     "data": {
      "text/plain": [
       "array(['Services', 'Communication', 'Construction', 'Energy',\n",
       "       'Entertainment', 'Financial Services', 'Healthcare', 'Hospitality',\n",
       "       'Insurance', 'Manufacturing', 'Mining', 'Real Estate', 'Retail',\n",
       "       'Transportation', 'Wholesale'], dtype=object)"
      ]
     },
     "execution_count": 13,
     "metadata": {},
     "output_type": "execute_result"
    }
   ],
   "source": [
    "fam_role_ind['industry'].unique()"
   ]
  },
  {
   "cell_type": "code",
   "execution_count": 10,
   "id": "4af38456",
   "metadata": {},
   "outputs": [
    {
     "data": {
      "text/plain": [
       "18"
      ]
     },
     "execution_count": 10,
     "metadata": {},
     "output_type": "execute_result"
    }
   ],
   "source": [
    "fam_role_ind['job_family'].nunique()"
   ]
  },
  {
   "cell_type": "code",
   "execution_count": 11,
   "id": "a64c740d",
   "metadata": {},
   "outputs": [
    {
     "data": {
      "text/plain": [
       "1705"
      ]
     },
     "execution_count": 11,
     "metadata": {},
     "output_type": "execute_result"
    }
   ],
   "source": [
    "fam_role_ind['role'].nunique()"
   ]
  },
  {
   "cell_type": "code",
   "execution_count": 12,
   "id": "a0fd6771",
   "metadata": {},
   "outputs": [
    {
     "data": {
      "text/plain": [
       "15"
      ]
     },
     "execution_count": 12,
     "metadata": {},
     "output_type": "execute_result"
    }
   ],
   "source": [
    "fam_role_ind['industry'].nunique()"
   ]
  },
  {
   "cell_type": "code",
   "execution_count": 20,
   "id": "f924adcd",
   "metadata": {},
   "outputs": [
    {
     "data": {
      "text/plain": [
       "post_date            0\n",
       "job_family           0\n",
       "role                 0\n",
       "family_role_count    0\n",
       "industry             0\n",
       "ind_family_count     0\n",
       "dtype: int64"
      ]
     },
     "execution_count": 20,
     "metadata": {},
     "output_type": "execute_result"
    }
   ],
   "source": [
    "fam_role_ind.isnull().sum()"
   ]
  },
  {
   "cell_type": "code",
   "execution_count": 17,
   "id": "2860c540",
   "metadata": {},
   "outputs": [
    {
     "data": {
      "text/html": [
       "<div>\n",
       "<style scoped>\n",
       "    .dataframe tbody tr th:only-of-type {\n",
       "        vertical-align: middle;\n",
       "    }\n",
       "\n",
       "    .dataframe tbody tr th {\n",
       "        vertical-align: top;\n",
       "    }\n",
       "\n",
       "    .dataframe thead th {\n",
       "        text-align: right;\n",
       "    }\n",
       "</style>\n",
       "<table border=\"1\" class=\"dataframe\">\n",
       "  <thead>\n",
       "    <tr style=\"text-align: right;\">\n",
       "      <th></th>\n",
       "      <th>post_date</th>\n",
       "      <th>state</th>\n",
       "      <th>industry</th>\n",
       "      <th>count_id_indexed</th>\n",
       "    </tr>\n",
       "  </thead>\n",
       "  <tbody>\n",
       "    <tr>\n",
       "      <th>0</th>\n",
       "      <td>2020-03-01</td>\n",
       "      <td>AK</td>\n",
       "      <td>Communication</td>\n",
       "      <td>1.0000</td>\n",
       "    </tr>\n",
       "    <tr>\n",
       "      <th>1</th>\n",
       "      <td>2020-03-01</td>\n",
       "      <td>AK</td>\n",
       "      <td>Communication</td>\n",
       "      <td>1.0000</td>\n",
       "    </tr>\n",
       "    <tr>\n",
       "      <th>2</th>\n",
       "      <td>2020-03-01</td>\n",
       "      <td>AK</td>\n",
       "      <td>Construction</td>\n",
       "      <td>1.0000</td>\n",
       "    </tr>\n",
       "    <tr>\n",
       "      <th>3</th>\n",
       "      <td>2020-03-01</td>\n",
       "      <td>AK</td>\n",
       "      <td>Energy</td>\n",
       "      <td>1.0000</td>\n",
       "    </tr>\n",
       "    <tr>\n",
       "      <th>4</th>\n",
       "      <td>2020-03-01</td>\n",
       "      <td>AK</td>\n",
       "      <td>Entertainment</td>\n",
       "      <td>1.0000</td>\n",
       "    </tr>\n",
       "    <tr>\n",
       "      <th>...</th>\n",
       "      <td>...</td>\n",
       "      <td>...</td>\n",
       "      <td>...</td>\n",
       "      <td>...</td>\n",
       "    </tr>\n",
       "    <tr>\n",
       "      <th>546203</th>\n",
       "      <td>2021-09-20</td>\n",
       "      <td>WY</td>\n",
       "      <td>Real Estate</td>\n",
       "      <td>2.8571</td>\n",
       "    </tr>\n",
       "    <tr>\n",
       "      <th>546204</th>\n",
       "      <td>2021-09-20</td>\n",
       "      <td>WY</td>\n",
       "      <td>Retail</td>\n",
       "      <td>1.3936</td>\n",
       "    </tr>\n",
       "    <tr>\n",
       "      <th>546205</th>\n",
       "      <td>2021-09-20</td>\n",
       "      <td>WY</td>\n",
       "      <td>Services</td>\n",
       "      <td>1.4001</td>\n",
       "    </tr>\n",
       "    <tr>\n",
       "      <th>546206</th>\n",
       "      <td>2021-09-20</td>\n",
       "      <td>WY</td>\n",
       "      <td>Transportation</td>\n",
       "      <td>0.4458</td>\n",
       "    </tr>\n",
       "    <tr>\n",
       "      <th>546207</th>\n",
       "      <td>2021-09-20</td>\n",
       "      <td>WY</td>\n",
       "      <td>Wholesale</td>\n",
       "      <td>1.1872</td>\n",
       "    </tr>\n",
       "  </tbody>\n",
       "</table>\n",
       "<p>546208 rows × 4 columns</p>\n",
       "</div>"
      ],
      "text/plain": [
       "         post_date state        industry  count_id_indexed\n",
       "0       2020-03-01    AK   Communication            1.0000\n",
       "1       2020-03-01    AK   Communication            1.0000\n",
       "2       2020-03-01    AK    Construction            1.0000\n",
       "3       2020-03-01    AK          Energy            1.0000\n",
       "4       2020-03-01    AK   Entertainment            1.0000\n",
       "...            ...   ...             ...               ...\n",
       "546203  2021-09-20    WY     Real Estate            2.8571\n",
       "546204  2021-09-20    WY          Retail            1.3936\n",
       "546205  2021-09-20    WY        Services            1.4001\n",
       "546206  2021-09-20    WY  Transportation            0.4458\n",
       "546207  2021-09-20    WY       Wholesale            1.1872\n",
       "\n",
       "[546208 rows x 4 columns]"
      ]
     },
     "execution_count": 17,
     "metadata": {},
     "output_type": "execute_result"
    }
   ],
   "source": [
    "geo_ind = pd.read_csv('cleaned_geo_ind.csv').drop(columns = 'Unnamed: 0')\n",
    "geo_ind"
   ]
  },
  {
   "cell_type": "code",
   "execution_count": 18,
   "id": "51d5682f",
   "metadata": {},
   "outputs": [],
   "source": [
    "geo_ind_fam = geo_ind.merge(ind_fam, how='left', on=['post_date', 'industry'])"
   ]
  },
  {
   "cell_type": "code",
   "execution_count": 22,
   "id": "94a23254",
   "metadata": {},
   "outputs": [],
   "source": [
    "geo_ind_fam['job_family'] = geo_ind_fam['job_family'].fillna(geo_ind_fam['job_family'].mode()[0])\n",
    "geo_ind_fam['ind_family_count'] = geo_ind_fam['ind_family_count'].fillna(geo_ind_fam['ind_family_count'].mean())"
   ]
  },
  {
   "cell_type": "code",
   "execution_count": 23,
   "id": "40b21fe7",
   "metadata": {},
   "outputs": [
    {
     "data": {
      "text/plain": [
       "post_date           0\n",
       "state               0\n",
       "industry            0\n",
       "count_id_indexed    0\n",
       "job_family          0\n",
       "ind_family_count    0\n",
       "dtype: int64"
      ]
     },
     "execution_count": 23,
     "metadata": {},
     "output_type": "execute_result"
    }
   ],
   "source": [
    "geo_ind_fam.isnull().sum()"
   ]
  },
  {
   "cell_type": "code",
   "execution_count": null,
   "id": "6d219bf1",
   "metadata": {},
   "outputs": [],
   "source": []
  }
 ],
 "metadata": {
  "kernelspec": {
   "display_name": "Python 3",
   "language": "python",
   "name": "python3"
  },
  "language_info": {
   "codemirror_mode": {
    "name": "ipython",
    "version": 3
   },
   "file_extension": ".py",
   "mimetype": "text/x-python",
   "name": "python",
   "nbconvert_exporter": "python",
   "pygments_lexer": "ipython3",
   "version": "3.8.8"
  }
 },
 "nbformat": 4,
 "nbformat_minor": 5
}
