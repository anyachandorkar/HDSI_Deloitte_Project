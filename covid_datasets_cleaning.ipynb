{
 "cells": [
  {
   "cell_type": "code",
   "execution_count": 2,
   "id": "e26450bc",
   "metadata": {},
   "outputs": [],
   "source": [
    "import pandas as pd\n",
    "import numpy as np\n",
    "import matplotlib.pyplot as plt"
   ]
  },
  {
   "cell_type": "code",
   "execution_count": 1,
   "id": "8983aad1",
   "metadata": {},
   "outputs": [],
   "source": [
    "def na_randomfill(series):\n",
    "    na_mask = pd.isnull(series)   # boolean mask for null values\n",
    "    n_null = na_mask.sum()        # number of nulls in the Series\n",
    "    \n",
    "    # Randomly sample the non-null values from our series\n",
    "    #  only sample this Series as many times as we have nulls \n",
    "    fill_values = series[~na_mask].sample(n=n_null, replace=True, random_state=0)\n",
    "\n",
    "    # This ensures our new values will replace NaNs in the correct locations\n",
    "    fill_values.index = series.index[na_mask]\n",
    "    \n",
    "    return series.fillna(fill_values) "
   ]
  },
  {
   "cell_type": "code",
   "execution_count": 3,
   "id": "fa3a56d4",
   "metadata": {},
   "outputs": [
    {
     "data": {
      "text/html": [
       "<div>\n",
       "<style scoped>\n",
       "    .dataframe tbody tr th:only-of-type {\n",
       "        vertical-align: middle;\n",
       "    }\n",
       "\n",
       "    .dataframe tbody tr th {\n",
       "        vertical-align: top;\n",
       "    }\n",
       "\n",
       "    .dataframe thead th {\n",
       "        text-align: right;\n",
       "    }\n",
       "</style>\n",
       "<table border=\"1\" class=\"dataframe\">\n",
       "  <thead>\n",
       "    <tr style=\"text-align: right;\">\n",
       "      <th></th>\n",
       "      <th>post_date</th>\n",
       "      <th>state</th>\n",
       "      <th>count_id_indexed</th>\n",
       "    </tr>\n",
       "  </thead>\n",
       "  <tbody>\n",
       "    <tr>\n",
       "      <th>0</th>\n",
       "      <td>2020-03-01</td>\n",
       "      <td>NaN</td>\n",
       "      <td>1.0000</td>\n",
       "    </tr>\n",
       "    <tr>\n",
       "      <th>1</th>\n",
       "      <td>2020-03-01</td>\n",
       "      <td>AK</td>\n",
       "      <td>1.0000</td>\n",
       "    </tr>\n",
       "    <tr>\n",
       "      <th>2</th>\n",
       "      <td>2020-03-01</td>\n",
       "      <td>AL</td>\n",
       "      <td>1.0000</td>\n",
       "    </tr>\n",
       "    <tr>\n",
       "      <th>3</th>\n",
       "      <td>2020-03-01</td>\n",
       "      <td>AR</td>\n",
       "      <td>1.0000</td>\n",
       "    </tr>\n",
       "    <tr>\n",
       "      <th>4</th>\n",
       "      <td>2020-03-01</td>\n",
       "      <td>AZ</td>\n",
       "      <td>1.0000</td>\n",
       "    </tr>\n",
       "    <tr>\n",
       "      <th>...</th>\n",
       "      <td>...</td>\n",
       "      <td>...</td>\n",
       "      <td>...</td>\n",
       "    </tr>\n",
       "    <tr>\n",
       "      <th>34133</th>\n",
       "      <td>2021-09-20</td>\n",
       "      <td>VT</td>\n",
       "      <td>1.2268</td>\n",
       "    </tr>\n",
       "    <tr>\n",
       "      <th>34134</th>\n",
       "      <td>2021-09-20</td>\n",
       "      <td>WA</td>\n",
       "      <td>0.9157</td>\n",
       "    </tr>\n",
       "    <tr>\n",
       "      <th>34135</th>\n",
       "      <td>2021-09-20</td>\n",
       "      <td>WI</td>\n",
       "      <td>1.1750</td>\n",
       "    </tr>\n",
       "    <tr>\n",
       "      <th>34136</th>\n",
       "      <td>2021-09-20</td>\n",
       "      <td>WV</td>\n",
       "      <td>1.1330</td>\n",
       "    </tr>\n",
       "    <tr>\n",
       "      <th>34137</th>\n",
       "      <td>2021-09-20</td>\n",
       "      <td>WY</td>\n",
       "      <td>0.8922</td>\n",
       "    </tr>\n",
       "  </tbody>\n",
       "</table>\n",
       "<p>34138 rows × 3 columns</p>\n",
       "</div>"
      ],
      "text/plain": [
       "        post_date state  count_id_indexed\n",
       "0      2020-03-01   NaN            1.0000\n",
       "1      2020-03-01    AK            1.0000\n",
       "2      2020-03-01    AL            1.0000\n",
       "3      2020-03-01    AR            1.0000\n",
       "4      2020-03-01    AZ            1.0000\n",
       "...           ...   ...               ...\n",
       "34133  2021-09-20    VT            1.2268\n",
       "34134  2021-09-20    WA            0.9157\n",
       "34135  2021-09-20    WI            1.1750\n",
       "34136  2021-09-20    WV            1.1330\n",
       "34137  2021-09-20    WY            0.8922\n",
       "\n",
       "[34138 rows x 3 columns]"
      ]
     },
     "execution_count": 3,
     "metadata": {},
     "output_type": "execute_result"
    }
   ],
   "source": [
    "geo = pd.read_csv('geography.csv')\n",
    "geo"
   ]
  },
  {
   "cell_type": "code",
   "execution_count": 4,
   "id": "76be0a14",
   "metadata": {},
   "outputs": [
    {
     "data": {
      "text/plain": [
       "post_date           0.000000\n",
       "state               0.016609\n",
       "count_id_indexed    0.000000\n",
       "dtype: float64"
      ]
     },
     "execution_count": 4,
     "metadata": {},
     "output_type": "execute_result"
    }
   ],
   "source": [
    "geo.isnull().sum()/len(geo)"
   ]
  },
  {
   "cell_type": "code",
   "execution_count": 5,
   "id": "70b1b4bc",
   "metadata": {},
   "outputs": [
    {
     "data": {
      "text/plain": [
       "array([nan, 'AK', 'AL', 'AR', 'AZ', 'CA', 'CO', 'CT', 'DC', 'DE', 'FL',\n",
       "       'GA', 'HI', 'IA', 'ID', 'IL', 'IN', 'KS', 'KY', 'LA', 'MA', 'MD',\n",
       "       'ME', 'MI', 'MN', 'MO', 'MS', 'MT', 'NC', 'ND', 'NE', 'NH', 'NJ',\n",
       "       'NM', 'NV', 'NY', 'OH', 'OK', 'OR', 'PA', 'Pi', 'PR', 'RI', 'SC',\n",
       "       'SD', 'Sh', 'St', 'TN', 'TX', 'Un', 'UT', 'VA', 'VI', 'VT', 'WA',\n",
       "       'WI', 'WV', 'WY', 'AS', 'GU', 'Ly', 'MP', 'So', 'ON', 'Ha', 'SK',\n",
       "       'La', 'AB', 'BS', 'ZH', 'BC', 'Ka', 'MB', 'Ko', 'W', 'N�', 'SP',\n",
       "       'Ch', 'Be', 'Cu', 'Na', 'Te', 'LU', 'ZG', 'SG', 'UM', 'Bu', '??',\n",
       "       'KA', 'BW', 'QC', 'EN', 'A', 'TA', 'NS', 'C', 'C ', 'C0', 'CU',\n",
       "       'JK', '8�', 'BY'], dtype=object)"
      ]
     },
     "execution_count": 5,
     "metadata": {},
     "output_type": "execute_result"
    }
   ],
   "source": [
    "geo['state'].unique()"
   ]
  },
  {
   "cell_type": "code",
   "execution_count": 6,
   "id": "7376406a",
   "metadata": {},
   "outputs": [],
   "source": [
    "#null imputation for weird values \n",
    "state_codes = pd.read_csv('state-codes.csv').replace('WY ', 'WY')\n",
    "def fill_state(state):\n",
    "    if str(state) in np.array(state_codes['Alpha Code']):\n",
    "        return state\n",
    "    else:\n",
    "        return None\n",
    "geo['state'] = geo['state'].apply(fill_state)"
   ]
  },
  {
   "cell_type": "code",
   "execution_count": 7,
   "id": "ac0607fa",
   "metadata": {},
   "outputs": [
    {
     "data": {
      "text/plain": [
       "array([None, 'AK', 'AL', 'AR', 'AZ', 'CA', 'CO', 'CT', 'DE', 'FL', 'GA',\n",
       "       'HI', 'IA', 'ID', 'IL', 'IN', 'KS', 'KY', 'LA', 'MA', 'MD', 'ME',\n",
       "       'MI', 'MN', 'MO', 'MS', 'MT', 'NC', 'ND', 'NE', 'NH', 'NJ', 'NM',\n",
       "       'NV', 'NY', 'OH', 'OK', 'OR', 'PA', 'RI', 'SC', 'SD', 'TN', 'TX',\n",
       "       'UT', 'VA', 'VT', 'WA', 'WI', 'WV', 'WY'], dtype=object)"
      ]
     },
     "execution_count": 7,
     "metadata": {},
     "output_type": "execute_result"
    }
   ],
   "source": [
    "geo['state'].unique()"
   ]
  },
  {
   "cell_type": "code",
   "execution_count": 9,
   "id": "c048bd91",
   "metadata": {},
   "outputs": [],
   "source": [
    "geo['state'] = na_randomfill(geo['state'])"
   ]
  },
  {
   "cell_type": "code",
   "execution_count": 10,
   "id": "5e957397",
   "metadata": {},
   "outputs": [
    {
     "data": {
      "text/plain": [
       "post_date           0.0\n",
       "state               0.0\n",
       "count_id_indexed    0.0\n",
       "dtype: float64"
      ]
     },
     "execution_count": 10,
     "metadata": {},
     "output_type": "execute_result"
    }
   ],
   "source": [
    "geo.isnull().sum()/len(geo)"
   ]
  },
  {
   "cell_type": "code",
   "execution_count": 12,
   "id": "bfd43fa7",
   "metadata": {},
   "outputs": [
    {
     "data": {
      "text/plain": [
       "NJ    715\n",
       "WI    710\n",
       "WV    703\n",
       "AL    702\n",
       "UT    701\n",
       "AZ    699\n",
       "RI    692\n",
       "MT    691\n",
       "MD    690\n",
       "MN    690\n",
       "MO    690\n",
       "WA    690\n",
       "WY    689\n",
       "ID    688\n",
       "TX    688\n",
       "IN    687\n",
       "GA    686\n",
       "NE    686\n",
       "CO    686\n",
       "MS    685\n",
       "OH    685\n",
       "MI    684\n",
       "NV    684\n",
       "TN    683\n",
       "ME    682\n",
       "VA    681\n",
       "CA    681\n",
       "KY    681\n",
       "HI    681\n",
       "IL    680\n",
       "IA    680\n",
       "NH    680\n",
       "AR    679\n",
       "LA    679\n",
       "SD    679\n",
       "VT    678\n",
       "SC    678\n",
       "NM    678\n",
       "NY    675\n",
       "DE    672\n",
       "FL    671\n",
       "OR    670\n",
       "ND    668\n",
       "CT    668\n",
       "PA    668\n",
       "KS    668\n",
       "OK    666\n",
       "NC    666\n",
       "AK    665\n",
       "MA    660\n",
       "Name: state, dtype: int64"
      ]
     },
     "execution_count": 12,
     "metadata": {},
     "output_type": "execute_result"
    }
   ],
   "source": [
    "geo['state'].value_counts()"
   ]
  },
  {
   "cell_type": "code",
   "execution_count": 13,
   "id": "86b07f95",
   "metadata": {},
   "outputs": [],
   "source": [
    "geo['post_date'] = pd.to_datetime(geo['post_date'])"
   ]
  },
  {
   "cell_type": "code",
   "execution_count": 14,
   "id": "84bb54a7",
   "metadata": {},
   "outputs": [],
   "source": [
    "geo.to_csv('cleaned_geo.csv')"
   ]
  },
  {
   "cell_type": "code",
   "execution_count": 48,
   "id": "acf0792a",
   "metadata": {},
   "outputs": [
    {
     "data": {
      "text/html": [
       "<div>\n",
       "<style scoped>\n",
       "    .dataframe tbody tr th:only-of-type {\n",
       "        vertical-align: middle;\n",
       "    }\n",
       "\n",
       "    .dataframe tbody tr th {\n",
       "        vertical-align: top;\n",
       "    }\n",
       "\n",
       "    .dataframe thead th {\n",
       "        text-align: right;\n",
       "    }\n",
       "</style>\n",
       "<table border=\"1\" class=\"dataframe\">\n",
       "  <thead>\n",
       "    <tr style=\"text-align: right;\">\n",
       "      <th></th>\n",
       "      <th>post_date</th>\n",
       "      <th>state</th>\n",
       "      <th>industry</th>\n",
       "      <th>count_id_indexed</th>\n",
       "    </tr>\n",
       "  </thead>\n",
       "  <tbody>\n",
       "    <tr>\n",
       "      <th>0</th>\n",
       "      <td>2020-03-01</td>\n",
       "      <td>NaN</td>\n",
       "      <td>NaN</td>\n",
       "      <td>1.0000</td>\n",
       "    </tr>\n",
       "    <tr>\n",
       "      <th>1</th>\n",
       "      <td>2020-03-01</td>\n",
       "      <td>NaN</td>\n",
       "      <td>Communication</td>\n",
       "      <td>1.0000</td>\n",
       "    </tr>\n",
       "    <tr>\n",
       "      <th>2</th>\n",
       "      <td>2020-03-01</td>\n",
       "      <td>NaN</td>\n",
       "      <td>Construction</td>\n",
       "      <td>1.0000</td>\n",
       "    </tr>\n",
       "    <tr>\n",
       "      <th>3</th>\n",
       "      <td>2020-03-01</td>\n",
       "      <td>NaN</td>\n",
       "      <td>Energy</td>\n",
       "      <td>1.0000</td>\n",
       "    </tr>\n",
       "    <tr>\n",
       "      <th>4</th>\n",
       "      <td>2020-03-01</td>\n",
       "      <td>NaN</td>\n",
       "      <td>Entertainment</td>\n",
       "      <td>1.0000</td>\n",
       "    </tr>\n",
       "    <tr>\n",
       "      <th>...</th>\n",
       "      <td>...</td>\n",
       "      <td>...</td>\n",
       "      <td>...</td>\n",
       "      <td>...</td>\n",
       "    </tr>\n",
       "    <tr>\n",
       "      <th>546203</th>\n",
       "      <td>2021-09-20</td>\n",
       "      <td>WY</td>\n",
       "      <td>Real Estate</td>\n",
       "      <td>2.8571</td>\n",
       "    </tr>\n",
       "    <tr>\n",
       "      <th>546204</th>\n",
       "      <td>2021-09-20</td>\n",
       "      <td>WY</td>\n",
       "      <td>Retail</td>\n",
       "      <td>1.3936</td>\n",
       "    </tr>\n",
       "    <tr>\n",
       "      <th>546205</th>\n",
       "      <td>2021-09-20</td>\n",
       "      <td>WY</td>\n",
       "      <td>Services</td>\n",
       "      <td>1.4001</td>\n",
       "    </tr>\n",
       "    <tr>\n",
       "      <th>546206</th>\n",
       "      <td>2021-09-20</td>\n",
       "      <td>WY</td>\n",
       "      <td>Transportation</td>\n",
       "      <td>0.4458</td>\n",
       "    </tr>\n",
       "    <tr>\n",
       "      <th>546207</th>\n",
       "      <td>2021-09-20</td>\n",
       "      <td>WY</td>\n",
       "      <td>Wholesale</td>\n",
       "      <td>1.1872</td>\n",
       "    </tr>\n",
       "  </tbody>\n",
       "</table>\n",
       "<p>546208 rows × 4 columns</p>\n",
       "</div>"
      ],
      "text/plain": [
       "         post_date state        industry  count_id_indexed\n",
       "0       2020-03-01   NaN             NaN            1.0000\n",
       "1       2020-03-01   NaN   Communication            1.0000\n",
       "2       2020-03-01   NaN    Construction            1.0000\n",
       "3       2020-03-01   NaN          Energy            1.0000\n",
       "4       2020-03-01   NaN   Entertainment            1.0000\n",
       "...            ...   ...             ...               ...\n",
       "546203  2021-09-20    WY     Real Estate            2.8571\n",
       "546204  2021-09-20    WY          Retail            1.3936\n",
       "546205  2021-09-20    WY        Services            1.4001\n",
       "546206  2021-09-20    WY  Transportation            0.4458\n",
       "546207  2021-09-20    WY       Wholesale            1.1872\n",
       "\n",
       "[546208 rows x 4 columns]"
      ]
     },
     "execution_count": 48,
     "metadata": {},
     "output_type": "execute_result"
    }
   ],
   "source": [
    "geo_ind = pd.read_csv('geography_industry.csv')\n",
    "geo_ind"
   ]
  },
  {
   "cell_type": "code",
   "execution_count": 47,
   "id": "b7727789",
   "metadata": {},
   "outputs": [
    {
     "data": {
      "text/plain": [
       "Wholesale             0.066920\n",
       "Manufacturing         0.066780\n",
       "Services              0.066742\n",
       "Energy                0.066718\n",
       "Healthcare            0.066715\n",
       "Mining                0.066683\n",
       "Hospitality           0.066674\n",
       "Retail                0.066658\n",
       "Entertainment         0.066639\n",
       "Real Estate           0.066638\n",
       "Construction          0.066638\n",
       "Transportation        0.066610\n",
       "Communication         0.066552\n",
       "Insurance             0.066519\n",
       "Financial Services    0.066515\n",
       "Name: industry, dtype: float64"
      ]
     },
     "execution_count": 47,
     "metadata": {},
     "output_type": "execute_result"
    }
   ],
   "source": [
    "geo_ind['industry'].value_counts(dropna=False)/len(geo_ind)"
   ]
  },
  {
   "cell_type": "code",
   "execution_count": 16,
   "id": "7a53a30a",
   "metadata": {},
   "outputs": [
    {
     "data": {
      "text/plain": [
       "post_date           0.000000\n",
       "state               0.016609\n",
       "industry            0.062500\n",
       "count_id_indexed    0.000000\n",
       "dtype: float64"
      ]
     },
     "execution_count": 16,
     "metadata": {},
     "output_type": "execute_result"
    }
   ],
   "source": [
    "geo_ind.isnull().sum()/len(geo_ind)"
   ]
  },
  {
   "cell_type": "code",
   "execution_count": 17,
   "id": "7d60fe40",
   "metadata": {},
   "outputs": [],
   "source": [
    "geo_ind['state'] = geo_ind['state'].apply(fill_state)\n",
    "geo_ind['state'] = na_randomfill(geo_ind['state'])\n",
    "geo_ind['industry'] = na_randomfill(geo_ind['industry'])"
   ]
  },
  {
   "cell_type": "code",
   "execution_count": 18,
   "id": "e6654a32",
   "metadata": {},
   "outputs": [
    {
     "data": {
      "text/plain": [
       "post_date           0.0\n",
       "state               0.0\n",
       "industry            0.0\n",
       "count_id_indexed    0.0\n",
       "dtype: float64"
      ]
     },
     "execution_count": 18,
     "metadata": {},
     "output_type": "execute_result"
    }
   ],
   "source": [
    "geo_ind.isnull().sum()/len(geo_ind)"
   ]
  },
  {
   "cell_type": "code",
   "execution_count": 20,
   "id": "c773912e",
   "metadata": {},
   "outputs": [
    {
     "data": {
      "text/plain": [
       "Wholesale             36552\n",
       "Manufacturing         36476\n",
       "Services              36455\n",
       "Energy                36442\n",
       "Healthcare            36440\n",
       "Mining                36423\n",
       "Hospitality           36418\n",
       "Retail                36409\n",
       "Entertainment         36399\n",
       "Real Estate           36398\n",
       "Construction          36398\n",
       "Transportation        36383\n",
       "Communication         36351\n",
       "Insurance             36333\n",
       "Financial Services    36331\n",
       "Name: industry, dtype: int64"
      ]
     },
     "execution_count": 20,
     "metadata": {},
     "output_type": "execute_result"
    }
   ],
   "source": [
    "geo_ind['industry'].value_counts()"
   ]
  },
  {
   "cell_type": "code",
   "execution_count": 30,
   "id": "c16543c5",
   "metadata": {},
   "outputs": [],
   "source": [
    "geo_ind.to_csv('cleaned_geo_ind.csv')"
   ]
  },
  {
   "cell_type": "code",
   "execution_count": 21,
   "id": "732c7cb7",
   "metadata": {},
   "outputs": [
    {
     "data": {
      "text/html": [
       "<div>\n",
       "<style scoped>\n",
       "    .dataframe tbody tr th:only-of-type {\n",
       "        vertical-align: middle;\n",
       "    }\n",
       "\n",
       "    .dataframe tbody tr th {\n",
       "        vertical-align: top;\n",
       "    }\n",
       "\n",
       "    .dataframe thead th {\n",
       "        text-align: right;\n",
       "    }\n",
       "</style>\n",
       "<table border=\"1\" class=\"dataframe\">\n",
       "  <thead>\n",
       "    <tr style=\"text-align: right;\">\n",
       "      <th></th>\n",
       "      <th>post_date</th>\n",
       "      <th>industry</th>\n",
       "      <th>count_id_indexed</th>\n",
       "    </tr>\n",
       "  </thead>\n",
       "  <tbody>\n",
       "    <tr>\n",
       "      <th>0</th>\n",
       "      <td>2020-03-01</td>\n",
       "      <td>NaN</td>\n",
       "      <td>1.0000</td>\n",
       "    </tr>\n",
       "    <tr>\n",
       "      <th>1</th>\n",
       "      <td>2020-03-01</td>\n",
       "      <td>Communication</td>\n",
       "      <td>1.0000</td>\n",
       "    </tr>\n",
       "    <tr>\n",
       "      <th>2</th>\n",
       "      <td>2020-03-01</td>\n",
       "      <td>Construction</td>\n",
       "      <td>1.0000</td>\n",
       "    </tr>\n",
       "    <tr>\n",
       "      <th>3</th>\n",
       "      <td>2020-03-01</td>\n",
       "      <td>Energy</td>\n",
       "      <td>1.0000</td>\n",
       "    </tr>\n",
       "    <tr>\n",
       "      <th>4</th>\n",
       "      <td>2020-03-01</td>\n",
       "      <td>Entertainment</td>\n",
       "      <td>1.0000</td>\n",
       "    </tr>\n",
       "    <tr>\n",
       "      <th>...</th>\n",
       "      <td>...</td>\n",
       "      <td>...</td>\n",
       "      <td>...</td>\n",
       "    </tr>\n",
       "    <tr>\n",
       "      <th>9067</th>\n",
       "      <td>2021-09-20</td>\n",
       "      <td>Real Estate</td>\n",
       "      <td>1.9053</td>\n",
       "    </tr>\n",
       "    <tr>\n",
       "      <th>9068</th>\n",
       "      <td>2021-09-20</td>\n",
       "      <td>Retail</td>\n",
       "      <td>2.0609</td>\n",
       "    </tr>\n",
       "    <tr>\n",
       "      <th>9069</th>\n",
       "      <td>2021-09-20</td>\n",
       "      <td>Services</td>\n",
       "      <td>1.8623</td>\n",
       "    </tr>\n",
       "    <tr>\n",
       "      <th>9070</th>\n",
       "      <td>2021-09-20</td>\n",
       "      <td>Transportation</td>\n",
       "      <td>1.7572</td>\n",
       "    </tr>\n",
       "    <tr>\n",
       "      <th>9071</th>\n",
       "      <td>2021-09-20</td>\n",
       "      <td>Wholesale</td>\n",
       "      <td>2.1153</td>\n",
       "    </tr>\n",
       "  </tbody>\n",
       "</table>\n",
       "<p>9072 rows × 3 columns</p>\n",
       "</div>"
      ],
      "text/plain": [
       "       post_date        industry  count_id_indexed\n",
       "0     2020-03-01             NaN            1.0000\n",
       "1     2020-03-01   Communication            1.0000\n",
       "2     2020-03-01    Construction            1.0000\n",
       "3     2020-03-01          Energy            1.0000\n",
       "4     2020-03-01   Entertainment            1.0000\n",
       "...          ...             ...               ...\n",
       "9067  2021-09-20     Real Estate            1.9053\n",
       "9068  2021-09-20          Retail            2.0609\n",
       "9069  2021-09-20        Services            1.8623\n",
       "9070  2021-09-20  Transportation            1.7572\n",
       "9071  2021-09-20       Wholesale            2.1153\n",
       "\n",
       "[9072 rows x 3 columns]"
      ]
     },
     "execution_count": 21,
     "metadata": {},
     "output_type": "execute_result"
    }
   ],
   "source": [
    "ind = pd.read_csv('industry.csv')\n",
    "ind"
   ]
  },
  {
   "cell_type": "code",
   "execution_count": 22,
   "id": "4d8dd4af",
   "metadata": {},
   "outputs": [
    {
     "data": {
      "text/plain": [
       "post_date           0.0000\n",
       "industry            0.0625\n",
       "count_id_indexed    0.0000\n",
       "dtype: float64"
      ]
     },
     "execution_count": 22,
     "metadata": {},
     "output_type": "execute_result"
    }
   ],
   "source": [
    "ind.isnull().sum()/len(ind)"
   ]
  },
  {
   "cell_type": "code",
   "execution_count": 23,
   "id": "54c72a4e",
   "metadata": {},
   "outputs": [],
   "source": [
    "ind['industry'] = ind['industry'] = na_randomfill(ind['industry'])\n",
    "ind['post_date'] = pd.to_datetime(ind['post_date'])"
   ]
  },
  {
   "cell_type": "code",
   "execution_count": 24,
   "id": "1913a64a",
   "metadata": {},
   "outputs": [
    {
     "data": {
      "text/plain": [
       "post_date           0.0\n",
       "industry            0.0\n",
       "count_id_indexed    0.0\n",
       "dtype: float64"
      ]
     },
     "execution_count": 24,
     "metadata": {},
     "output_type": "execute_result"
    }
   ],
   "source": [
    "ind.isnull().sum()/len(ind)"
   ]
  },
  {
   "cell_type": "code",
   "execution_count": 31,
   "id": "0a12e529",
   "metadata": {},
   "outputs": [],
   "source": [
    "ind.to_csv('cleaned_ind.csv')"
   ]
  },
  {
   "cell_type": "code",
   "execution_count": 25,
   "id": "1b49ebbb",
   "metadata": {},
   "outputs": [
    {
     "data": {
      "text/html": [
       "<div>\n",
       "<style scoped>\n",
       "    .dataframe tbody tr th:only-of-type {\n",
       "        vertical-align: middle;\n",
       "    }\n",
       "\n",
       "    .dataframe tbody tr th {\n",
       "        vertical-align: top;\n",
       "    }\n",
       "\n",
       "    .dataframe thead th {\n",
       "        text-align: right;\n",
       "    }\n",
       "</style>\n",
       "<table border=\"1\" class=\"dataframe\">\n",
       "  <thead>\n",
       "    <tr style=\"text-align: right;\">\n",
       "      <th></th>\n",
       "      <th>post_date</th>\n",
       "      <th>industry</th>\n",
       "      <th>job_family</th>\n",
       "      <th>count_id_indexed</th>\n",
       "    </tr>\n",
       "  </thead>\n",
       "  <tbody>\n",
       "    <tr>\n",
       "      <th>0</th>\n",
       "      <td>2020-03-01</td>\n",
       "      <td>NaN</td>\n",
       "      <td>NaN</td>\n",
       "      <td>1.0000</td>\n",
       "    </tr>\n",
       "    <tr>\n",
       "      <th>1</th>\n",
       "      <td>2020-03-01</td>\n",
       "      <td>NaN</td>\n",
       "      <td>Customer Service</td>\n",
       "      <td>1.0000</td>\n",
       "    </tr>\n",
       "    <tr>\n",
       "      <th>2</th>\n",
       "      <td>2020-03-01</td>\n",
       "      <td>NaN</td>\n",
       "      <td>Entertainment and Recreation</td>\n",
       "      <td>1.0000</td>\n",
       "    </tr>\n",
       "    <tr>\n",
       "      <th>3</th>\n",
       "      <td>2020-03-01</td>\n",
       "      <td>NaN</td>\n",
       "      <td>Facilities/Constr</td>\n",
       "      <td>1.0000</td>\n",
       "    </tr>\n",
       "    <tr>\n",
       "      <th>4</th>\n",
       "      <td>2020-03-01</td>\n",
       "      <td>NaN</td>\n",
       "      <td>Finance/Insurance</td>\n",
       "      <td>1.0000</td>\n",
       "    </tr>\n",
       "    <tr>\n",
       "      <th>...</th>\n",
       "      <td>...</td>\n",
       "      <td>...</td>\n",
       "      <td>...</td>\n",
       "      <td>...</td>\n",
       "    </tr>\n",
       "    <tr>\n",
       "      <th>162774</th>\n",
       "      <td>2021-09-20</td>\n",
       "      <td>Wholesale</td>\n",
       "      <td>Sales</td>\n",
       "      <td>1.9490</td>\n",
       "    </tr>\n",
       "    <tr>\n",
       "      <th>162775</th>\n",
       "      <td>2021-09-20</td>\n",
       "      <td>Wholesale</td>\n",
       "      <td>Security</td>\n",
       "      <td>7.7942</td>\n",
       "    </tr>\n",
       "    <tr>\n",
       "      <th>162776</th>\n",
       "      <td>2021-09-20</td>\n",
       "      <td>Wholesale</td>\n",
       "      <td>Skilled Trades</td>\n",
       "      <td>2.5048</td>\n",
       "    </tr>\n",
       "    <tr>\n",
       "      <th>162777</th>\n",
       "      <td>2021-09-20</td>\n",
       "      <td>Wholesale</td>\n",
       "      <td>Supply Chain Staff</td>\n",
       "      <td>2.4621</td>\n",
       "    </tr>\n",
       "    <tr>\n",
       "      <th>162778</th>\n",
       "      <td>2021-09-20</td>\n",
       "      <td>Wholesale</td>\n",
       "      <td>Unassigned</td>\n",
       "      <td>0.4777</td>\n",
       "    </tr>\n",
       "  </tbody>\n",
       "</table>\n",
       "<p>162779 rows × 4 columns</p>\n",
       "</div>"
      ],
      "text/plain": [
       "         post_date   industry                    job_family  count_id_indexed\n",
       "0       2020-03-01        NaN                           NaN            1.0000\n",
       "1       2020-03-01        NaN              Customer Service            1.0000\n",
       "2       2020-03-01        NaN  Entertainment and Recreation            1.0000\n",
       "3       2020-03-01        NaN             Facilities/Constr            1.0000\n",
       "4       2020-03-01        NaN             Finance/Insurance            1.0000\n",
       "...            ...        ...                           ...               ...\n",
       "162774  2021-09-20  Wholesale                         Sales            1.9490\n",
       "162775  2021-09-20  Wholesale                      Security            7.7942\n",
       "162776  2021-09-20  Wholesale                Skilled Trades            2.5048\n",
       "162777  2021-09-20  Wholesale            Supply Chain Staff            2.4621\n",
       "162778  2021-09-20  Wholesale                    Unassigned            0.4777\n",
       "\n",
       "[162779 rows x 4 columns]"
      ]
     },
     "execution_count": 25,
     "metadata": {},
     "output_type": "execute_result"
    }
   ],
   "source": [
    "ind_fam = pd.read_csv('industry_job_family.csv')\n",
    "ind_fam"
   ]
  },
  {
   "cell_type": "code",
   "execution_count": 26,
   "id": "f741bc40",
   "metadata": {},
   "outputs": [
    {
     "data": {
      "text/plain": [
       "post_date           0.000000\n",
       "industry            0.065721\n",
       "job_family          0.050271\n",
       "count_id_indexed    0.000000\n",
       "dtype: float64"
      ]
     },
     "execution_count": 26,
     "metadata": {},
     "output_type": "execute_result"
    }
   ],
   "source": [
    "ind_fam.isnull().sum()/len(ind_fam)"
   ]
  },
  {
   "cell_type": "code",
   "execution_count": 27,
   "id": "407791b1",
   "metadata": {},
   "outputs": [],
   "source": [
    "ind_fam['industry'] = na_randomfill(ind_fam['industry'])\n",
    "ind_fam['job_family'] = na_randomfill(ind_fam['job_family'])\n",
    "ind_fam['post_date'] = pd.to_datetime(ind_fam['post_date'])"
   ]
  },
  {
   "cell_type": "code",
   "execution_count": 28,
   "id": "a97fc4b7",
   "metadata": {},
   "outputs": [
    {
     "data": {
      "text/plain": [
       "post_date           0.0\n",
       "industry            0.0\n",
       "job_family          0.0\n",
       "count_id_indexed    0.0\n",
       "dtype: float64"
      ]
     },
     "execution_count": 28,
     "metadata": {},
     "output_type": "execute_result"
    }
   ],
   "source": [
    "ind_fam.isnull().sum()/len(ind_fam)"
   ]
  },
  {
   "cell_type": "code",
   "execution_count": 32,
   "id": "b07ec73b",
   "metadata": {},
   "outputs": [],
   "source": [
    "ind_fam.to_csv('cleaned_ind_fam.csv')"
   ]
  },
  {
   "cell_type": "code",
   "execution_count": 33,
   "id": "03e7da32",
   "metadata": {},
   "outputs": [
    {
     "data": {
      "text/html": [
       "<div>\n",
       "<style scoped>\n",
       "    .dataframe tbody tr th:only-of-type {\n",
       "        vertical-align: middle;\n",
       "    }\n",
       "\n",
       "    .dataframe tbody tr th {\n",
       "        vertical-align: top;\n",
       "    }\n",
       "\n",
       "    .dataframe thead th {\n",
       "        text-align: right;\n",
       "    }\n",
       "</style>\n",
       "<table border=\"1\" class=\"dataframe\">\n",
       "  <thead>\n",
       "    <tr style=\"text-align: right;\">\n",
       "      <th></th>\n",
       "      <th>post_date</th>\n",
       "      <th>job_family</th>\n",
       "      <th>count_id_indexed</th>\n",
       "    </tr>\n",
       "  </thead>\n",
       "  <tbody>\n",
       "    <tr>\n",
       "      <th>0</th>\n",
       "      <td>2020-03-01</td>\n",
       "      <td>NaN</td>\n",
       "      <td>1.0000</td>\n",
       "    </tr>\n",
       "    <tr>\n",
       "      <th>1</th>\n",
       "      <td>2020-03-01</td>\n",
       "      <td>Customer Service</td>\n",
       "      <td>1.0000</td>\n",
       "    </tr>\n",
       "    <tr>\n",
       "      <th>2</th>\n",
       "      <td>2020-03-01</td>\n",
       "      <td>Entertainment and Recreation</td>\n",
       "      <td>1.0000</td>\n",
       "    </tr>\n",
       "    <tr>\n",
       "      <th>3</th>\n",
       "      <td>2020-03-01</td>\n",
       "      <td>Facilities/Constr</td>\n",
       "      <td>1.0000</td>\n",
       "    </tr>\n",
       "    <tr>\n",
       "      <th>4</th>\n",
       "      <td>2020-03-01</td>\n",
       "      <td>Finance/Insurance</td>\n",
       "      <td>1.0000</td>\n",
       "    </tr>\n",
       "    <tr>\n",
       "      <th>...</th>\n",
       "      <td>...</td>\n",
       "      <td>...</td>\n",
       "      <td>...</td>\n",
       "    </tr>\n",
       "    <tr>\n",
       "      <th>10693</th>\n",
       "      <td>2021-09-20</td>\n",
       "      <td>Sales</td>\n",
       "      <td>1.6536</td>\n",
       "    </tr>\n",
       "    <tr>\n",
       "      <th>10694</th>\n",
       "      <td>2021-09-20</td>\n",
       "      <td>Security</td>\n",
       "      <td>1.7130</td>\n",
       "    </tr>\n",
       "    <tr>\n",
       "      <th>10695</th>\n",
       "      <td>2021-09-20</td>\n",
       "      <td>Skilled Trades</td>\n",
       "      <td>2.2378</td>\n",
       "    </tr>\n",
       "    <tr>\n",
       "      <th>10696</th>\n",
       "      <td>2021-09-20</td>\n",
       "      <td>Supply Chain Staff</td>\n",
       "      <td>1.7979</td>\n",
       "    </tr>\n",
       "    <tr>\n",
       "      <th>10697</th>\n",
       "      <td>2021-09-20</td>\n",
       "      <td>Unassigned</td>\n",
       "      <td>0.4208</td>\n",
       "    </tr>\n",
       "  </tbody>\n",
       "</table>\n",
       "<p>10698 rows × 3 columns</p>\n",
       "</div>"
      ],
      "text/plain": [
       "        post_date                    job_family  count_id_indexed\n",
       "0      2020-03-01                           NaN            1.0000\n",
       "1      2020-03-01              Customer Service            1.0000\n",
       "2      2020-03-01  Entertainment and Recreation            1.0000\n",
       "3      2020-03-01             Facilities/Constr            1.0000\n",
       "4      2020-03-01             Finance/Insurance            1.0000\n",
       "...           ...                           ...               ...\n",
       "10693  2021-09-20                         Sales            1.6536\n",
       "10694  2021-09-20                      Security            1.7130\n",
       "10695  2021-09-20                Skilled Trades            2.2378\n",
       "10696  2021-09-20            Supply Chain Staff            1.7979\n",
       "10697  2021-09-20                    Unassigned            0.4208\n",
       "\n",
       "[10698 rows x 3 columns]"
      ]
     },
     "execution_count": 33,
     "metadata": {},
     "output_type": "execute_result"
    }
   ],
   "source": [
    "fam = pd.read_csv('job_family.csv')\n",
    "fam"
   ]
  },
  {
   "cell_type": "code",
   "execution_count": 34,
   "id": "74c917ba",
   "metadata": {},
   "outputs": [
    {
     "data": {
      "text/plain": [
       "post_date           0.000000\n",
       "job_family          0.052627\n",
       "count_id_indexed    0.000000\n",
       "dtype: float64"
      ]
     },
     "execution_count": 34,
     "metadata": {},
     "output_type": "execute_result"
    }
   ],
   "source": [
    "fam.isnull().sum()/len(fam)"
   ]
  },
  {
   "cell_type": "code",
   "execution_count": 35,
   "id": "87ab59c6",
   "metadata": {},
   "outputs": [],
   "source": [
    "fam['job_family'] = na_randomfill(fam['job_family'])"
   ]
  },
  {
   "cell_type": "code",
   "execution_count": 36,
   "id": "d78f335f",
   "metadata": {},
   "outputs": [
    {
     "data": {
      "text/plain": [
       "post_date           0.0\n",
       "job_family          0.0\n",
       "count_id_indexed    0.0\n",
       "dtype: float64"
      ]
     },
     "execution_count": 36,
     "metadata": {},
     "output_type": "execute_result"
    }
   ],
   "source": [
    "fam.isnull().sum()/len(fam)"
   ]
  },
  {
   "cell_type": "code",
   "execution_count": 37,
   "id": "3d7b30fb",
   "metadata": {},
   "outputs": [
    {
     "data": {
      "text/plain": [
       "Entertainment and Recreation      603\n",
       "Product Management                600\n",
       "Skilled Trades                    599\n",
       "Retail Staff                      599\n",
       "Healthcare                        599\n",
       "Hospitality Staff                 598\n",
       "Customer Service                  598\n",
       "Marketing/Advertising             597\n",
       "Finance/Insurance                 596\n",
       "Manufacturing/Operations Staff    595\n",
       "Supply Chain Staff                595\n",
       "Security                          595\n",
       "Food & Beverage                   592\n",
       "Human Resources                   590\n",
       "Facilities/Constr                 587\n",
       "IT                                586\n",
       "Unassigned                        585\n",
       "Sales                             584\n",
       "Name: job_family, dtype: int64"
      ]
     },
     "execution_count": 37,
     "metadata": {},
     "output_type": "execute_result"
    }
   ],
   "source": [
    "fam['job_family'].value_counts()"
   ]
  },
  {
   "cell_type": "code",
   "execution_count": 38,
   "id": "e9c076fb",
   "metadata": {},
   "outputs": [],
   "source": [
    "fam.to_csv('cleaned_fam.csv')"
   ]
  },
  {
   "cell_type": "code",
   "execution_count": 39,
   "id": "4d8cf2f7",
   "metadata": {},
   "outputs": [
    {
     "data": {
      "text/html": [
       "<div>\n",
       "<style scoped>\n",
       "    .dataframe tbody tr th:only-of-type {\n",
       "        vertical-align: middle;\n",
       "    }\n",
       "\n",
       "    .dataframe tbody tr th {\n",
       "        vertical-align: top;\n",
       "    }\n",
       "\n",
       "    .dataframe thead th {\n",
       "        text-align: right;\n",
       "    }\n",
       "</style>\n",
       "<table border=\"1\" class=\"dataframe\">\n",
       "  <thead>\n",
       "    <tr style=\"text-align: right;\">\n",
       "      <th></th>\n",
       "      <th>post_date</th>\n",
       "      <th>job_family</th>\n",
       "      <th>role</th>\n",
       "      <th>count_id_indexed</th>\n",
       "    </tr>\n",
       "  </thead>\n",
       "  <tbody>\n",
       "    <tr>\n",
       "      <th>0</th>\n",
       "      <td>2020-03-01</td>\n",
       "      <td>NaN</td>\n",
       "      <td>EXCUDE</td>\n",
       "      <td>1.0000</td>\n",
       "    </tr>\n",
       "    <tr>\n",
       "      <th>1</th>\n",
       "      <td>2020-03-01</td>\n",
       "      <td>Customer Service</td>\n",
       "      <td>Call Center Manager</td>\n",
       "      <td>1.0000</td>\n",
       "    </tr>\n",
       "    <tr>\n",
       "      <th>2</th>\n",
       "      <td>2020-03-01</td>\n",
       "      <td>Customer Service</td>\n",
       "      <td>Customer Service Manager</td>\n",
       "      <td>1.0000</td>\n",
       "    </tr>\n",
       "    <tr>\n",
       "      <th>3</th>\n",
       "      <td>2020-03-01</td>\n",
       "      <td>Customer Service</td>\n",
       "      <td>Customer Service Representative</td>\n",
       "      <td>1.0000</td>\n",
       "    </tr>\n",
       "    <tr>\n",
       "      <th>4</th>\n",
       "      <td>2020-03-01</td>\n",
       "      <td>Customer Service</td>\n",
       "      <td>Customer Support Representative</td>\n",
       "      <td>1.0000</td>\n",
       "    </tr>\n",
       "    <tr>\n",
       "      <th>...</th>\n",
       "      <td>...</td>\n",
       "      <td>...</td>\n",
       "      <td>...</td>\n",
       "      <td>...</td>\n",
       "    </tr>\n",
       "    <tr>\n",
       "      <th>619914</th>\n",
       "      <td>2021-09-20</td>\n",
       "      <td>Unassigned</td>\n",
       "      <td>Project Coordinator</td>\n",
       "      <td>0.8639</td>\n",
       "    </tr>\n",
       "    <tr>\n",
       "      <th>619915</th>\n",
       "      <td>2021-09-20</td>\n",
       "      <td>Unassigned</td>\n",
       "      <td>Project Manager</td>\n",
       "      <td>0.5298</td>\n",
       "    </tr>\n",
       "    <tr>\n",
       "      <th>619916</th>\n",
       "      <td>2021-09-20</td>\n",
       "      <td>Unassigned</td>\n",
       "      <td>Shift Manager</td>\n",
       "      <td>2.5717</td>\n",
       "    </tr>\n",
       "    <tr>\n",
       "      <th>619917</th>\n",
       "      <td>2021-09-20</td>\n",
       "      <td>Unassigned</td>\n",
       "      <td>Team Member</td>\n",
       "      <td>0.1535</td>\n",
       "    </tr>\n",
       "    <tr>\n",
       "      <th>619918</th>\n",
       "      <td>2021-09-20</td>\n",
       "      <td>Unassigned</td>\n",
       "      <td>Vice president</td>\n",
       "      <td>0.4040</td>\n",
       "    </tr>\n",
       "  </tbody>\n",
       "</table>\n",
       "<p>619919 rows × 4 columns</p>\n",
       "</div>"
      ],
      "text/plain": [
       "         post_date        job_family                             role  \\\n",
       "0       2020-03-01               NaN                           EXCUDE   \n",
       "1       2020-03-01  Customer Service              Call Center Manager   \n",
       "2       2020-03-01  Customer Service         Customer Service Manager   \n",
       "3       2020-03-01  Customer Service  Customer Service Representative   \n",
       "4       2020-03-01  Customer Service  Customer Support Representative   \n",
       "...            ...               ...                              ...   \n",
       "619914  2021-09-20        Unassigned              Project Coordinator   \n",
       "619915  2021-09-20        Unassigned                  Project Manager   \n",
       "619916  2021-09-20        Unassigned                    Shift Manager   \n",
       "619917  2021-09-20        Unassigned                      Team Member   \n",
       "619918  2021-09-20        Unassigned                   Vice president   \n",
       "\n",
       "       count_id_indexed  \n",
       "0                1.0000  \n",
       "1                1.0000  \n",
       "2                1.0000  \n",
       "3                1.0000  \n",
       "4                1.0000  \n",
       "...                 ...  \n",
       "619914           0.8639  \n",
       "619915           0.5298  \n",
       "619916           2.5717  \n",
       "619917           0.1535  \n",
       "619918           0.4040  \n",
       "\n",
       "[619919 rows x 4 columns]"
      ]
     },
     "execution_count": 39,
     "metadata": {},
     "output_type": "execute_result"
    }
   ],
   "source": [
    "fam_role = pd.read_csv('job_family_role.csv')\n",
    "fam_role"
   ]
  },
  {
   "cell_type": "code",
   "execution_count": 40,
   "id": "eb23a402",
   "metadata": {},
   "outputs": [
    {
     "data": {
      "text/plain": [
       "post_date           0.000000\n",
       "job_family          0.000923\n",
       "role                0.000024\n",
       "count_id_indexed    0.000000\n",
       "dtype: float64"
      ]
     },
     "execution_count": 40,
     "metadata": {},
     "output_type": "execute_result"
    }
   ],
   "source": [
    "fam_role.isnull().sum()/len(fam_role)"
   ]
  },
  {
   "cell_type": "code",
   "execution_count": 41,
   "id": "155874c2",
   "metadata": {},
   "outputs": [],
   "source": [
    "fam_role['job_family'] = na_randomfill(fam_role['job_family'])\n",
    "fam_role['role'] = na_randomfill(fam_role['role'])\n",
    "fam_role['post_date'] = pd.to_datetime(fam_role['post_date'])"
   ]
  },
  {
   "cell_type": "code",
   "execution_count": 42,
   "id": "440d71c5",
   "metadata": {},
   "outputs": [
    {
     "data": {
      "text/plain": [
       "post_date           0.0\n",
       "job_family          0.0\n",
       "role                0.0\n",
       "count_id_indexed    0.0\n",
       "dtype: float64"
      ]
     },
     "execution_count": 42,
     "metadata": {},
     "output_type": "execute_result"
    }
   ],
   "source": [
    "fam_role.isnull().sum()/len(fam_role)"
   ]
  },
  {
   "cell_type": "code",
   "execution_count": 43,
   "id": "07dd2151",
   "metadata": {},
   "outputs": [
    {
     "data": {
      "text/plain": [
       "Healthcare                        114630\n",
       "Finance/Insurance                  96023\n",
       "Entertainment and Recreation       52713\n",
       "Manufacturing/Operations Staff     48607\n",
       "IT                                 44141\n",
       "Hospitality Staff                  40273\n",
       "Skilled Trades                     38200\n",
       "Food & Beverage                    30481\n",
       "Retail Staff                       27270\n",
       "Marketing/Advertising              23375\n",
       "Facilities/Constr                  21292\n",
       "Human Resources                    20401\n",
       "Supply Chain Staff                 19290\n",
       "Unassigned                         18179\n",
       "Sales                              12151\n",
       "Security                            5648\n",
       "Customer Service                    5008\n",
       "Product Management                  2237\n",
       "Name: job_family, dtype: int64"
      ]
     },
     "execution_count": 43,
     "metadata": {},
     "output_type": "execute_result"
    }
   ],
   "source": [
    "fam_role['job_family'].value_counts()"
   ]
  },
  {
   "cell_type": "code",
   "execution_count": 44,
   "id": "bf16c9cd",
   "metadata": {},
   "outputs": [],
   "source": [
    "fam_role.to_csv('cleaned_fam_role.csv')"
   ]
  },
  {
   "cell_type": "code",
   "execution_count": 9,
   "id": "fa75b8f0",
   "metadata": {},
   "outputs": [
    {
     "data": {
      "text/html": [
       "<div>\n",
       "<style scoped>\n",
       "    .dataframe tbody tr th:only-of-type {\n",
       "        vertical-align: middle;\n",
       "    }\n",
       "\n",
       "    .dataframe tbody tr th {\n",
       "        vertical-align: top;\n",
       "    }\n",
       "\n",
       "    .dataframe thead th {\n",
       "        text-align: right;\n",
       "    }\n",
       "</style>\n",
       "<table border=\"1\" class=\"dataframe\">\n",
       "  <thead>\n",
       "    <tr style=\"text-align: right;\">\n",
       "      <th></th>\n",
       "      <th>post_date</th>\n",
       "      <th>count_id_indexed</th>\n",
       "    </tr>\n",
       "  </thead>\n",
       "  <tbody>\n",
       "    <tr>\n",
       "      <th>0</th>\n",
       "      <td>2020-03-01</td>\n",
       "      <td>1.0000</td>\n",
       "    </tr>\n",
       "    <tr>\n",
       "      <th>1</th>\n",
       "      <td>2020-03-02</td>\n",
       "      <td>1.0100</td>\n",
       "    </tr>\n",
       "    <tr>\n",
       "      <th>2</th>\n",
       "      <td>2020-03-03</td>\n",
       "      <td>1.0223</td>\n",
       "    </tr>\n",
       "    <tr>\n",
       "      <th>3</th>\n",
       "      <td>2020-03-04</td>\n",
       "      <td>1.0461</td>\n",
       "    </tr>\n",
       "    <tr>\n",
       "      <th>4</th>\n",
       "      <td>2020-03-05</td>\n",
       "      <td>1.0582</td>\n",
       "    </tr>\n",
       "    <tr>\n",
       "      <th>...</th>\n",
       "      <td>...</td>\n",
       "      <td>...</td>\n",
       "    </tr>\n",
       "    <tr>\n",
       "      <th>562</th>\n",
       "      <td>2021-09-16</td>\n",
       "      <td>1.9723</td>\n",
       "    </tr>\n",
       "    <tr>\n",
       "      <th>563</th>\n",
       "      <td>2021-09-17</td>\n",
       "      <td>1.9826</td>\n",
       "    </tr>\n",
       "    <tr>\n",
       "      <th>564</th>\n",
       "      <td>2021-09-18</td>\n",
       "      <td>2.0087</td>\n",
       "    </tr>\n",
       "    <tr>\n",
       "      <th>565</th>\n",
       "      <td>2021-09-19</td>\n",
       "      <td>2.0763</td>\n",
       "    </tr>\n",
       "    <tr>\n",
       "      <th>566</th>\n",
       "      <td>2021-09-20</td>\n",
       "      <td>1.7846</td>\n",
       "    </tr>\n",
       "  </tbody>\n",
       "</table>\n",
       "<p>567 rows × 2 columns</p>\n",
       "</div>"
      ],
      "text/plain": [
       "      post_date  count_id_indexed\n",
       "0    2020-03-01            1.0000\n",
       "1    2020-03-02            1.0100\n",
       "2    2020-03-03            1.0223\n",
       "3    2020-03-04            1.0461\n",
       "4    2020-03-05            1.0582\n",
       "..          ...               ...\n",
       "562  2021-09-16            1.9723\n",
       "563  2021-09-17            1.9826\n",
       "564  2021-09-18            2.0087\n",
       "565  2021-09-19            2.0763\n",
       "566  2021-09-20            1.7846\n",
       "\n",
       "[567 rows x 2 columns]"
      ]
     },
     "execution_count": 9,
     "metadata": {},
     "output_type": "execute_result"
    }
   ],
   "source": [
    "overall = pd.read_csv('overall.csv')\n",
    "overall"
   ]
  },
  {
   "cell_type": "code",
   "execution_count": 246,
   "id": "f343df31",
   "metadata": {},
   "outputs": [
    {
     "data": {
      "text/plain": [
       "post_date           0.0\n",
       "count_id_indexed    0.0\n",
       "dtype: float64"
      ]
     },
     "execution_count": 246,
     "metadata": {},
     "output_type": "execute_result"
    }
   ],
   "source": [
    "overall.isnull().sum()/len(overall)"
   ]
  }
 ],
 "metadata": {
  "kernelspec": {
   "display_name": "Python 3",
   "language": "python",
   "name": "python3"
  },
  "language_info": {
   "codemirror_mode": {
    "name": "ipython",
    "version": 3
   },
   "file_extension": ".py",
   "mimetype": "text/x-python",
   "name": "python",
   "nbconvert_exporter": "python",
   "pygments_lexer": "ipython3",
   "version": "3.8.8"
  }
 },
 "nbformat": 4,
 "nbformat_minor": 5
}
