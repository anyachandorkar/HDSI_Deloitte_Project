version https://git-lfs.github.com/spec/v1
oid sha256:2e0553d1663288218066cc0339cb87ecaaf433e510b93ed96780ca9aa37a0b59
size 695391
